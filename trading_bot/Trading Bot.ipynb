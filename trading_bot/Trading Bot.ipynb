{
 "cells": [
  {
   "cell_type": "code",
   "execution_count": 1,
   "id": "0846f00a",
   "metadata": {
    "scrolled": true
   },
   "outputs": [],
   "source": [
    "import numpy as np\n",
    "import pandas as pd\n",
    "import requests #HTTP request\n",
    "import xlsxwriter\n",
    "import math\n",
    "\n",
    "#Ignores all the warnings.\n",
    "import warnings\n",
    "warnings.filterwarnings('ignore')"
   ]
  },
  {
   "cell_type": "code",
   "execution_count": 2,
   "id": "641d0deb",
   "metadata": {},
   "outputs": [],
   "source": [
    "#Reads the .csv files for each of the tickers.\n",
    "stocks = pd.read_csv('sp_500_stocks.csv', encoding='utf-8')"
   ]
  },
  {
   "cell_type": "code",
   "execution_count": 3,
   "id": "2c22c714",
   "metadata": {},
   "outputs": [],
   "source": [
    "#API Token to retrieve data through the API.\n",
    "IEX_CLOUD_API_TOKEN = 'Tpk_059b97af715d417d9f49f50b51b1c448'"
   ]
  },
  {
   "cell_type": "code",
   "execution_count": 4,
   "id": "84cceeb5",
   "metadata": {},
   "outputs": [],
   "source": [
    "#symbol='AAPL'\n",
    "#api_url = f'https://sandbox.iexapis.com/stable/stock/{symbol}/quote?token={IEX_CLOUD_API_TOKEN}'\n",
    "#data = requests.get(api_url).json()"
   ]
  },
  {
   "cell_type": "code",
   "execution_count": 5,
   "id": "29ca2630",
   "metadata": {},
   "outputs": [],
   "source": [
    "#Columns for the outputed data.\n",
    "my_columns = ['Ticker', 'Price','Market Capitalization', 'Number Of Shares to Buy']\n",
    "#final_dataframe = pd.DataFrame(columns = my_columns)"
   ]
  },
  {
   "cell_type": "code",
   "execution_count": 6,
   "id": "3158f2b2",
   "metadata": {
    "scrolled": true
   },
   "outputs": [
    {
     "name": "stdout",
     "output_type": "stream",
     "text": [
      "Please enter the minimum market cap you would like for your portfolio:\n",
      "(The lowest market cap is 1,500,000,000)\n",
      "1500000000\n",
      "Please enter the maximum market cap you would like for your portfolio:\n",
      "(The highest market cap of a Fortune 500 Company is 2,420,000,000,000)\n",
      "2420000000000\n"
     ]
    }
   ],
   "source": [
    "print(\"Please enter the minimum market cap you would like for your portfolio:\\n(The lowest market cap is 1,500,000,000)\")\n",
    "min = int(input())\n",
    "print(\"Please enter the maximum market cap you would like for your portfolio:\\n(The highest market cap of a Fortune 500 Company is 2,420,000,000,000)\")\n",
    "max = int(input())"
   ]
  },
  {
   "cell_type": "code",
   "execution_count": 7,
   "id": "de3a3e55",
   "metadata": {},
   "outputs": [],
   "source": [
    "def chunks(lst, n):\n",
    "    for i in range(0, len(lst), n):\n",
    "        yield lst[i:i + n]\n",
    "\n",
    "#Split symbols into chunks of 100 stock symbols.\n",
    "symbol_groups = list(chunks(stocks['Ticker'], 100))\n",
    "symbol_strings = []\n",
    "for i in range(0, len(symbol_groups)):\n",
    "    #Creates a list of all the chunks, turning them into strings connected by commas.\n",
    "    symbol_strings.append(','.join(symbol_groups[i]))\n",
    "\n",
    "final_dataframe = pd.DataFrame(columns = my_columns)\n",
    "\n",
    "for symbol_string in symbol_strings:\n",
    "    #Performs API call for each batch, to save time from doing it one by one.\n",
    "    batch_api_call_url = f'https://sandbox.iexapis.com/stable/stock/market/batch/?types=quote&symbols={symbol_string}&token={IEX_CLOUD_API_TOKEN}'\n",
    "    data = requests.get(batch_api_call_url).json()\n",
    "    \n",
    "    #Adds the symbol's gotten values separately.\n",
    "    for symbol in symbol_string.split(','):\n",
    "        final_dataframe = final_dataframe.append(\n",
    "                                        pd.Series([symbol,\n",
    "                                                   data[symbol]['quote']['latestPrice'],\n",
    "                                                   data[symbol]['quote']['marketCap'],\n",
    "                                                   'N/A'],\n",
    "                                                  index = my_columns),\n",
    "                                        ignore_index = True)"
   ]
  },
  {
   "cell_type": "code",
   "execution_count": 8,
   "id": "d9faf45b",
   "metadata": {},
   "outputs": [
    {
     "name": "stdout",
     "output_type": "stream",
     "text": [
      "Enter the value of your portfolio:100000\n"
     ]
    }
   ],
   "source": [
    "portfolio_size = input(\"Enter the value of your portfolio:\")\n",
    "\n",
    "try:\n",
    "    val = float(portfolio_size)\n",
    "except ValueError:\n",
    "    print(\"That's not a number! \\n Try again:\")\n",
    "    portfolio_size = input(\"Enter the value of your portfolio:\")"
   ]
  },
  {
   "cell_type": "code",
   "execution_count": 9,
   "id": "9e5438fe",
   "metadata": {
    "scrolled": true
   },
   "outputs": [
    {
     "data": {
      "text/html": [
       "<div>\n",
       "<style scoped>\n",
       "    .dataframe tbody tr th:only-of-type {\n",
       "        vertical-align: middle;\n",
       "    }\n",
       "\n",
       "    .dataframe tbody tr th {\n",
       "        vertical-align: top;\n",
       "    }\n",
       "\n",
       "    .dataframe thead th {\n",
       "        text-align: right;\n",
       "    }\n",
       "</style>\n",
       "<table border=\"1\" class=\"dataframe\">\n",
       "  <thead>\n",
       "    <tr style=\"text-align: right;\">\n",
       "      <th></th>\n",
       "      <th>Ticker</th>\n",
       "      <th>Price</th>\n",
       "      <th>Market Capitalization</th>\n",
       "      <th>Number Of Shares to Buy</th>\n",
       "    </tr>\n",
       "  </thead>\n",
       "  <tbody>\n",
       "    <tr>\n",
       "      <th>0</th>\n",
       "      <td>A</td>\n",
       "      <td>130.64</td>\n",
       "      <td>38740003969</td>\n",
       "      <td>1</td>\n",
       "    </tr>\n",
       "    <tr>\n",
       "      <th>1</th>\n",
       "      <td>AAL</td>\n",
       "      <td>13.86</td>\n",
       "      <td>8990711204</td>\n",
       "      <td>14</td>\n",
       "    </tr>\n",
       "    <tr>\n",
       "      <th>2</th>\n",
       "      <td>AAP</td>\n",
       "      <td>175.00</td>\n",
       "      <td>10271332945</td>\n",
       "      <td>1</td>\n",
       "    </tr>\n",
       "    <tr>\n",
       "      <th>3</th>\n",
       "      <td>AAPL</td>\n",
       "      <td>157.40</td>\n",
       "      <td>2473967563281</td>\n",
       "      <td>1</td>\n",
       "    </tr>\n",
       "    <tr>\n",
       "      <th>4</th>\n",
       "      <td>ABBV</td>\n",
       "      <td>147.16</td>\n",
       "      <td>264994413501</td>\n",
       "      <td>1</td>\n",
       "    </tr>\n",
       "    <tr>\n",
       "      <th>...</th>\n",
       "      <td>...</td>\n",
       "      <td>...</td>\n",
       "      <td>...</td>\n",
       "      <td>...</td>\n",
       "    </tr>\n",
       "    <tr>\n",
       "      <th>494</th>\n",
       "      <td>YUM</td>\n",
       "      <td>116.37</td>\n",
       "      <td>33183045725</td>\n",
       "      <td>1</td>\n",
       "    </tr>\n",
       "    <tr>\n",
       "      <th>495</th>\n",
       "      <td>ZBH</td>\n",
       "      <td>114.57</td>\n",
       "      <td>23816719598</td>\n",
       "      <td>1</td>\n",
       "    </tr>\n",
       "    <tr>\n",
       "      <th>496</th>\n",
       "      <td>ZBRA</td>\n",
       "      <td>291.15</td>\n",
       "      <td>15441917247</td>\n",
       "      <td>0</td>\n",
       "    </tr>\n",
       "    <tr>\n",
       "      <th>497</th>\n",
       "      <td>ZION</td>\n",
       "      <td>59.80</td>\n",
       "      <td>9010486303</td>\n",
       "      <td>3</td>\n",
       "    </tr>\n",
       "    <tr>\n",
       "      <th>498</th>\n",
       "      <td>ZTS</td>\n",
       "      <td>157.90</td>\n",
       "      <td>75722209614</td>\n",
       "      <td>1</td>\n",
       "    </tr>\n",
       "  </tbody>\n",
       "</table>\n",
       "<p>499 rows × 4 columns</p>\n",
       "</div>"
      ],
      "text/plain": [
       "    Ticker   Price Market Capitalization Number Of Shares to Buy\n",
       "0        A  130.64           38740003969                       1\n",
       "1      AAL   13.86            8990711204                      14\n",
       "2      AAP  175.00           10271332945                       1\n",
       "3     AAPL  157.40         2473967563281                       1\n",
       "4     ABBV  147.16          264994413501                       1\n",
       "..     ...     ...                   ...                     ...\n",
       "494    YUM  116.37           33183045725                       1\n",
       "495    ZBH  114.57           23816719598                       1\n",
       "496   ZBRA  291.15           15441917247                       0\n",
       "497   ZION   59.80            9010486303                       3\n",
       "498    ZTS  157.90           75722209614                       1\n",
       "\n",
       "[499 rows x 4 columns]"
      ]
     },
     "execution_count": 9,
     "metadata": {},
     "output_type": "execute_result"
    }
   ],
   "source": [
    "if len(final_dataframe.index != 0):\n",
    "    position_size = float(portfolio_size) / len(final_dataframe.index)\n",
    "    for i in range(0, len(final_dataframe['Ticker'])):\n",
    "        final_dataframe.loc[i, 'Number Of Shares to Buy'] = math.floor(position_size / final_dataframe['Price'][i])\n",
    "final_dataframe"
   ]
  },
  {
   "cell_type": "code",
   "execution_count": 10,
   "id": "f1235771",
   "metadata": {},
   "outputs": [],
   "source": [
    "#Start of Excel Export\n",
    "writer = pd.ExcelWriter('recommended_trades.xlsx', engine='xlsxwriter')\n",
    "final_dataframe.to_excel(writer, sheet_name='Recommended Trades', index = False)"
   ]
  },
  {
   "cell_type": "code",
   "execution_count": 11,
   "id": "9bf0bd60",
   "metadata": {},
   "outputs": [],
   "source": [
    "background_color = '#0a0a23'\n",
    "font_color = '#ffffff'\n",
    "\n",
    "string_format = writer.book.add_format(\n",
    "        {\n",
    "            'font_color': font_color,\n",
    "            'bg_color': background_color,\n",
    "            'border': 1\n",
    "        }\n",
    "    )\n",
    "\n",
    "dollar_format = writer.book.add_format(\n",
    "        {\n",
    "            'num_format':'$0.00',\n",
    "            'font_color': font_color,\n",
    "            'bg_color': background_color,\n",
    "            'border': 1\n",
    "        }\n",
    "    )\n",
    "\n",
    "integer_format = writer.book.add_format(\n",
    "        {\n",
    "            'num_format':'0',\n",
    "            'font_color': font_color,\n",
    "            'bg_color': background_color,\n",
    "            'border': 1\n",
    "        }\n",
    "    )"
   ]
  },
  {
   "cell_type": "code",
   "execution_count": 12,
   "id": "27096ade",
   "metadata": {},
   "outputs": [],
   "source": [
    "column_formats = { \n",
    "                    'A': ['Ticker', string_format],\n",
    "                    'B': ['Price', dollar_format],\n",
    "                    'C': ['Market Capitalization', dollar_format],\n",
    "                    'D': ['Number of Shares to Buy', integer_format]\n",
    "                    }\n",
    "\n",
    "for column in column_formats.keys():\n",
    "    writer.sheets['Recommended Trades'].set_column(f'{column}:{column}', 20, column_formats[column][1])\n",
    "    writer.sheets['Recommended Trades'].write(f'{column}1', column_formats[column][0], string_format)"
   ]
  },
  {
   "cell_type": "code",
   "execution_count": 13,
   "id": "45d2617b",
   "metadata": {},
   "outputs": [],
   "source": [
    "writer.save()"
   ]
  }
 ],
 "metadata": {
  "kernelspec": {
   "display_name": "Python 3 (ipykernel)",
   "language": "python",
   "name": "python3"
  },
  "language_info": {
   "codemirror_mode": {
    "name": "ipython",
    "version": 3
   },
   "file_extension": ".py",
   "mimetype": "text/x-python",
   "name": "python",
   "nbconvert_exporter": "python",
   "pygments_lexer": "ipython3",
   "version": "3.8.9"
  }
 },
 "nbformat": 4,
 "nbformat_minor": 5
}
